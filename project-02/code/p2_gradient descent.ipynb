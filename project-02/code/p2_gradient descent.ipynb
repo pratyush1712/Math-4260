{
 "cells": [
  {
   "cell_type": "code",
   "execution_count": 20,
   "id": "65ff08ea",
   "metadata": {},
   "outputs": [],
   "source": [
    "import numpy as np\n",
    "\n",
    "\n",
    "def lennard_jones_potential(distance):\n",
    "    if distance == 0:\n",
    "        return float(\"-inf\")\n",
    "    return 1 / distance**12 - 2 / distance**6\n",
    "\n",
    "\n",
    "def calculate_total_energy(positions):\n",
    "    energy_sum = 0\n",
    "    num_atoms = len(positions) // 3\n",
    "    positions_with_origin = np.concatenate((positions, [0, 0, 0]))\n",
    "    position_matrix = positions_with_origin.reshape((num_atoms + 1, 3))\n",
    "\n",
    "    for i in range(num_atoms + 1):\n",
    "        for j in range(i + 1, num_atoms + 1):\n",
    "            energy_sum += lennard_jones_potential(\n",
    "                np.linalg.norm(position_matrix[i] - position_matrix[j])\n",
    "            )\n",
    "    return energy_sum\n",
    "\n",
    "\n",
    "def calculate_gradients(positions):\n",
    "    num_atoms = len(positions) // 3\n",
    "    gradients = np.zeros_like(positions)\n",
    "\n",
    "    for i in range(num_atoms):\n",
    "        current_pos = positions[3 * i : 3 * i + 3]\n",
    "        gradient_i = 12 * current_pos / (\n",
    "            np.linalg.norm(current_pos) ** 7\n",
    "        ) - 12 * current_pos / (np.linalg.norm(current_pos) ** 4)\n",
    "\n",
    "        for j in range(num_atoms):\n",
    "            if i == j:\n",
    "                continue\n",
    "            other_pos = positions[3 * j : 3 * j + 3]\n",
    "            r_vec = current_pos - other_pos\n",
    "            r_norm = np.linalg.norm(r_vec) ** 7\n",
    "            gradient_i += 12 * r_vec / r_norm\n",
    "\n",
    "        gradients[3 * i : 3 * i + 3] = gradient_i\n",
    "\n",
    "    return gradients\n",
    "\n",
    "\n",
    "def wolfe_condition(step_size, c1, pos, grad):\n",
    "    next_pos = pos - step_size * grad\n",
    "    next_energy = calculate_total_energy(next_pos)\n",
    "    current_energy = calculate_total_energy(pos)\n",
    "\n",
    "    condition = next_energy <= current_energy + c1 * step_size * np.dot(grad, -grad)\n",
    "    return condition\n",
    "\n",
    "\n",
    "def perform_line_search(\n",
    "    positions, gradient, initial_step_size=0.01, c1=0.2, shrinkage=0.5\n",
    "):\n",
    "    step_size = initial_step_size\n",
    "\n",
    "    while not wolfe_condition(step_size, c1, positions, gradient):\n",
    "        step_size *= shrinkage\n",
    "\n",
    "    return step_size\n",
    "\n",
    "\n",
    "def gradient_descent(positions, learning_rate=0.001, max_iterations=1000):\n",
    "    history = []\n",
    "\n",
    "    for _ in range(max_iterations):\n",
    "        gradients = calculate_gradients(positions)\n",
    "        step_size = perform_line_search(positions, gradients)\n",
    "        positions -= step_size * gradients\n",
    "        history.append(positions.copy())\n",
    "\n",
    "        if np.linalg.norm(gradients) < 1e-10:\n",
    "            break\n",
    "\n",
    "    return positions, history"
   ]
  },
  {
   "cell_type": "code",
   "execution_count": 21,
   "id": "e06efc62",
   "metadata": {},
   "outputs": [
    {
     "name": "stdout",
     "output_type": "stream",
     "text": [
      "Optimized positions: [ -1.27879788  19.58242947   1.01606987   1.59158712 -18.82309773\n",
      "   0.40952589]\n",
      "Final energy: -7.930301675361927e-08\n"
     ]
    }
   ],
   "source": [
    "N = 3\n",
    "init = np.random.rand(3*(N-1))   \n",
    "\n",
    "optimum, history = gradient_descent(init)\n",
    "\n",
    "print(\"Optimized positions:\", optimum)\n",
    "print(\"Final energy:\", calculate_total_energy(optimum))"
   ]
  },
  {
   "cell_type": "code",
   "execution_count": null,
   "id": "88f52fe0",
   "metadata": {},
   "outputs": [],
   "source": []
  }
 ],
 "metadata": {
  "kernelspec": {
   "display_name": "Python 3 (ipykernel)",
   "language": "python",
   "name": "python3"
  },
  "language_info": {
   "codemirror_mode": {
    "name": "ipython",
    "version": 3
   },
   "file_extension": ".py",
   "mimetype": "text/x-python",
   "name": "python",
   "nbconvert_exporter": "python",
   "pygments_lexer": "ipython3",
   "version": "3.10.0"
  }
 },
 "nbformat": 4,
 "nbformat_minor": 5
}
