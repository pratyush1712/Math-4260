{
 "cells": [
  {
   "cell_type": "code",
   "execution_count": 5,
   "id": "985e9c11",
   "metadata": {},
   "outputs": [],
   "source": [
    "import numpy as np\n",
    "\n",
    "\n",
    "def lennard_jones_potential(distance):\n",
    "    if distance == 0:\n",
    "        return float(\"-inf\")\n",
    "    return 1 / distance**12 - 2 / distance**6\n",
    "\n",
    "\n",
    "def calculate_gradients(positions, num_atoms):\n",
    "    gradients = np.zeros_like(positions)\n",
    "\n",
    "    for i in range(num_atoms):\n",
    "        for j in range(num_atoms):\n",
    "            if i == j:\n",
    "                continue\n",
    "            r_vec = positions[3 * i : 3 * i + 3] - positions[3 * j : 3 * j + 3]\n",
    "            r_norm = np.linalg.norm(r_vec)\n",
    "            force_direction = r_vec / r_norm\n",
    "            force_magnitude = 12 * (1 / r_norm**13 - 1 / r_norm**7)\n",
    "            gradients[3 * i : 3 * i + 3] += force_magnitude * force_direction\n",
    "\n",
    "    return gradients\n",
    "\n",
    "\n",
    "def calculate_hessian(positions, num_atoms):\n",
    "    dim = len(positions)\n",
    "    hessian = np.zeros((dim, dim))\n",
    "\n",
    "    for i in range(num_atoms):\n",
    "        for j in range(num_atoms):\n",
    "            if i == j:\n",
    "                continue\n",
    "            r_vec = positions[3 * i : 3 * i + 3] - positions[3 * j : 3 * j + 3]\n",
    "            r_norm = np.linalg.norm(r_vec)\n",
    "            unit_r_vec = r_vec / r_norm\n",
    "\n",
    "            hess_ij = np.outer(unit_r_vec, unit_r_vec) * (\n",
    "                156 / r_norm**14 - 42 / r_norm**8\n",
    "            )\n",
    "            hess_ij += np.eye(3) * (12 / r_norm**8 - 12 / r_norm**14)\n",
    "\n",
    "            hessian[3 * i : 3 * i + 3, 3 * i : 3 * i + 3] += hess_ij\n",
    "            hessian[3 * i : 3 * i + 3, 3 * j : 3 * j + 3] -= hess_ij\n",
    "\n",
    "    return hessian\n",
    "\n",
    "\n",
    "def backtracking_line_search(\n",
    "    positions, gradients, hessian_inv, alpha=1.0, beta=0.8, c=0.0001\n",
    "):\n",
    "    while True:\n",
    "        new_positions = positions + alpha * np.dot(hessian_inv, -gradients)\n",
    "        if calculate_total_energy(new_positions) <= calculate_total_energy(\n",
    "            positions\n",
    "        ) + c * alpha * np.dot(gradients, np.dot(hessian_inv, -gradients)):\n",
    "            break\n",
    "        alpha *= beta\n",
    "    return alpha\n",
    "\n",
    "\n",
    "def newtons_method(positions, num_atoms, max_iterations=1000, tolerance=1e-10):\n",
    "    for _ in range(max_iterations):\n",
    "        gradients = calculate_gradients(positions, num_atoms)\n",
    "        hessian = calculate_hessian(positions, num_atoms)\n",
    "\n",
    "        try:\n",
    "            hessian_inv = np.linalg.inv(hessian)\n",
    "        except np.linalg.LinAlgError:\n",
    "            print(\"Hessian is singular or near-singular\")\n",
    "            break\n",
    "\n",
    "        step_size = backtracking_line_search(positions, gradients, hessian_inv)\n",
    "        delta_positions = -step_size * np.dot(hessian_inv, gradients)\n",
    "        positions += delta_positions\n",
    "\n",
    "        if np.linalg.norm(gradients) < tolerance:\n",
    "            break\n",
    "\n",
    "    return positions"
   ]
  },
  {
   "cell_type": "code",
   "execution_count": 6,
   "id": "df5b8a49",
   "metadata": {},
   "outputs": [
    {
     "name": "stdout",
     "output_type": "stream",
     "text": [
      "Hessian is singular or near-singular\n",
      "Optimized positions: [0.40672074 0.39819823 0.20014955 0.59146637 0.5564027  0.73695577]\n"
     ]
    }
   ],
   "source": [
    "N = 3\n",
    "init = np.random.rand(3*(N-1))   \n",
    "\n",
    "optimum = newtons_method(init, N - 1)\n",
    "\n",
    "print(\"Optimized positions:\", optimum)\n"
   ]
  },
  {
   "cell_type": "code",
   "execution_count": null,
   "id": "963af635",
   "metadata": {},
   "outputs": [],
   "source": []
  }
 ],
 "metadata": {
  "kernelspec": {
   "display_name": "Python 3 (ipykernel)",
   "language": "python",
   "name": "python3"
  },
  "language_info": {
   "codemirror_mode": {
    "name": "ipython",
    "version": 3
   },
   "file_extension": ".py",
   "mimetype": "text/x-python",
   "name": "python",
   "nbconvert_exporter": "python",
   "pygments_lexer": "ipython3",
   "version": "3.10.0"
  }
 },
 "nbformat": 4,
 "nbformat_minor": 5
}
